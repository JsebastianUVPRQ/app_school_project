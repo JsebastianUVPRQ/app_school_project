{
 "cells": [
  {
   "cell_type": "code",
   "execution_count": null,
   "id": "cbf5d51b",
   "metadata": {},
   "outputs": [],
   "source": [
    "import numpy as np\n",
    "import matplotlib.pyplot as plt\n",
    "from ipywidgets import interact, interactive, fixed, interact_manual\n",
    "import ipywidgets as widgets\n",
    "from scipy.integrate import odeint\n",
    "from matplotlib.animation import FuncAnimation\n",
    "from IPython.display import HTML\n"
   ]
  },
  {
   "cell_type": "code",
   "execution_count": 2,
   "id": "1d812dbe",
   "metadata": {},
   "outputs": [],
   "source": [
    "%matplotlib inline\n",
    "plt.style.use('ggplot')"
   ]
  },
  {
   "cell_type": "code",
   "execution_count": 3,
   "id": "60b43cc9",
   "metadata": {},
   "outputs": [
    {
     "data": {
      "application/vnd.jupyter.widget-view+json": {
       "model_id": "e8aa2e8e556c4c9c84eb3d83d0788938",
       "version_major": 2,
       "version_minor": 0
      },
      "text/plain": [
       "HBox(children=(Dropdown(description='Potencial:', options=('Newtoniano', 'Armónico', 'Personalizado'), value='…"
      ]
     },
     "metadata": {},
     "output_type": "display_data"
    },
    {
     "data": {
      "application/vnd.jupyter.widget-view+json": {
       "model_id": "7d4e4d83ed2d4ea68a72cbce2f81397b",
       "version_major": 2,
       "version_minor": 0
      },
      "text/plain": [
       "Output()"
      ]
     },
     "metadata": {},
     "output_type": "display_data"
    },
    {
     "data": {
      "image/png": "[encoded data removed]",
      "text/plain": [
       "<Figure size 700x700 with 1 Axes>"
      ]
     },
     "metadata": {},
     "output_type": "display_data"
    }
   ],
   "source": [
    "\n",
    "# Definimos el sistema de ecuaciones diferenciales\n",
    "def equations_of_motion(state, t, potential_type, params):\n",
    "    x, y, vx, vy = state\n",
    "    r = np.sqrt(x**2 + y**2)\n",
    "    \n",
    "    # Selección de potencial\n",
    "    if potential_type == \"Newtoniano\":\n",
    "        F_r = -params['G'] * params['M'] * params['m'] / r**2\n",
    "    elif potential_type == \"Armónico\":\n",
    "        F_r = -params['k'] * r\n",
    "    elif potential_type == \"Personalizado\":\n",
    "        F_r = -params['a']/r**2 + params['b']/r**3\n",
    "    \n",
    "    # Componentes de la aceleración\n",
    "    ax = F_r * x / (params['m'] * r)\n",
    "    ay = F_r * y / (params['m'] * r)\n",
    "    \n",
    "    return [vx, vy, ax, ay]\n",
    "\n",
    "# Función para resolver la órbita\n",
    "def compute_orbit(potential_type, G, M, m, k, a, b):\n",
    "    params = {\n",
    "        'G': G,\n",
    "        'M': M,\n",
    "        'm': m,\n",
    "        'k': k,\n",
    "        'a': a,\n",
    "        'b': b\n",
    "    }\n",
    "    \n",
    "    initial_conditions = [2.0, 0.0, 0.0, 1.5]  # x, y, vx, vy\n",
    "    t = np.linspace(0, 20, 300)\n",
    "    \n",
    "    solution = odeint(equations_of_motion, initial_conditions, t, args=(potential_type, params))\n",
    "    return solution[:,0], solution[:,1]\n",
    "\n",
    "# Función para crear la animación\n",
    "def create_animation(x, y):\n",
    "    fig, ax = plt.subplots(figsize=(7, 7))\n",
    "    ax.set_xlim(-5, 5)\n",
    "    ax.set_ylim(-5, 5)\n",
    "    ax.grid(True)\n",
    "    \n",
    "    line, = ax.plot([], [], 'b-', lw=1)\n",
    "    point, = ax.plot([], [], 'ro', ms=8)\n",
    "    \n",
    "    def animate(i):\n",
    "        line.set_data(x[:i], y[:i])\n",
    "        point.set_data(x[i], y[i])\n",
    "        return line, point\n",
    "    \n",
    "    ani = FuncAnimation(fig, animate, frames=len(x), interval=30, blit=True)\n",
    "    plt.close()\n",
    "    return HTML(ani.to_jshtml())\n",
    "\n",
    "# Interfaz interactiva\n",
    "potential_selector = widgets.Dropdown(\n",
    "    options=[\"Newtoniano\", \"Armónico\", \"Personalizado\"],\n",
    "    value=\"Newtoniano\",\n",
    "    description='Potencial:'\n",
    ")\n",
    "\n",
    "params_ui = {\n",
    "    'G': widgets.FloatSlider(value=1.0, min=0.1, max=10.0, step=0.1, description='G'),\n",
    "    'M': widgets.FloatSlider(value=100.0, min=1.0, max=500.0, step=10.0, description='M'),\n",
    "    'm': widgets.FloatSlider(value=1.0, min=0.1, max=10.0, step=0.1, description='m'),\n",
    "    'k': widgets.FloatSlider(value=0.5, min=0.1, max=5.0, step=0.1, description='k'),\n",
    "    'a': widgets.FloatSlider(value=1.0, min=0.1, max=10.0, step=0.1, description='a'),\n",
    "    'b': widgets.FloatSlider(value=0.1, min=0.0, max=2.0, step=0.1, description='b')\n",
    "}\n",
    "\n",
    "# Función de actualización\n",
    "def update_plot(potential_type, G, M, m, k, a, b):\n",
    "    x, y = compute_orbit(potential_type, G, M, m, k, a, b)\n",
    "    return create_animation(x, y)\n",
    "\n",
    "# Crear la interfaz interactiva\n",
    "output = widgets.interactive_output(update_plot, {\n",
    "    'potential_type': potential_selector,\n",
    "    'G': params_ui['G'],\n",
    "    'M': params_ui['M'],\n",
    "    'm': params_ui['m'],\n",
    "    'k': params_ui['k'],\n",
    "    'a': params_ui['a'],\n",
    "    'b': params_ui['b']\n",
    "})\n",
    "\n",
    "# Organizar la interfaz\n",
    "param_boxes = widgets.VBox([\n",
    "    params_ui['G'],\n",
    "    params_ui['M'],\n",
    "    params_ui['m'],\n",
    "    params_ui['k'],\n",
    "    params_ui['a'],\n",
    "    params_ui['b']\n",
    "])\n",
    "\n",
    "ui = widgets.HBox([potential_selector, param_boxes])\n",
    "\n",
    "# Mostrar todo el conjunto\n",
    "display(ui, output)\n",
    "\n",
    "def potential_harmonic(m1, m2, k, r):\n",
    "    return 0.5 * k * (r - (m1 + m2))**2"
   ]
  },
  {
   "cell_type": "code",
   "execution_count": null,
   "id": "240ae6a2",
   "metadata": {},
   "outputs": [],
   "source": []
  }
 ],
 "metadata": {
  "kernelspec": {
   "display_name": ".venv (3.12.10)",
   "language": "python",
   "name": "python3"
  },
  "language_info": {
   "codemirror_mode": {
    "name": "ipython",
    "version": 3
   },
   "file_extension": ".py",
   "mimetype": "text/x-python",
   "name": "python",
   "nbconvert_exporter": "python",
   "pygments_lexer": "ipython3",
   "version": "3.12.10"
  }
 },
 "nbformat": 4,
 "nbformat_minor": 5
}
