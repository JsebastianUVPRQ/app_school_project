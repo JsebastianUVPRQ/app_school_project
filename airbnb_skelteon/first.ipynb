{
 "cells": [
  {
   "cell_type": "code",
   "execution_count": null,
   "id": "b649299f",
   "metadata": {},
   "outputs": [
    {
     "ename": "",
     "evalue": "",
     "output_type": "error",
     "traceback": [
      "\u001b[1;31mFailed to start the Kernel. \n",
      "\u001b[1;31mUnable to start Kernel '.venv (Python 3.12.10)' due to a timeout waiting for the ports to get used. \n",
      "\u001b[1;31mView Jupyter <a href='command:jupyter.viewOutput'>log</a> for further details."
     ]
    }
   ],
   "source": [
    "# Install required libraries\n",
    "%pip install pandas numpy scikit-learn matplotlib seaborn shap missingno"
   ]
  },
  {
   "cell_type": "code",
   "execution_count": null,
   "id": "de0231c9",
   "metadata": {},
   "outputs": [],
   "source": [
    "import pandas as pd\n",
    "import numpy as np\n",
    "import matplotlib.pyplot as plt\n",
    "import seaborn as sns\n",
    "from sklearn.model_selection import train_test_split\n",
    "from sklearn.ensemble import RandomForestRegressor\n",
    "from sklearn.metrics import mean_absolute_error\n",
    "import shap\n",
    "\n",
    "# Load dataset (assume downloaded from Kaggle)\n",
    "df = pd.read_csv(\"Airbnb_Open_Data.csv\", low_memory=False)\n",
    "\n",
    "# Initial inspection\n",
    "print(df.shape)\n",
    "df.head()"
   ]
  },
  {
   "cell_type": "code",
   "execution_count": null,
   "id": "3af744da",
   "metadata": {},
   "outputs": [],
   "source": [
    "# Drop non-actionable columns\n",
    "df = df.drop(columns=['id', 'host id', 'NAME', 'host name', 'license', 'country'])\n",
    "\n",
    "# Convert price to numeric\n",
    "df['price'] = df['price'].replace('[\\$,]', '', regex=True).astype(float)\n",
    "\n",
    "# Filter price outliers (top 2%)\n",
    "price_upper_limit = df['price'].quantile(0.98)\n",
    "df = df[df['price'] <= price_upper_limit]\n",
    "\n",
    "# Handle missing values\n",
    "df = df.dropna(subset=['price'])  # Remove listings without price\n",
    "df['review rate number'] = df['review rate number'].fillna(df['review rate number'].median())\n",
    "df = df.drop(columns=['house_rules', 'lat', 'long'])  # High missingness\n",
    "\n",
    "# Encode categorical features\n",
    "categorical_cols = ['neighbourhood group', 'room type', 'instant_bookable']\n",
    "df = pd.get_dummies(df, columns=categorical_cols, drop_first=True)\n",
    "\n",
    "# Final cleaning\n",
    "df = df.dropna()  # Remove remaining missing values\n",
    "print(f\"Final dataset shape: {df.shape}\")"
   ]
  },
  {
   "cell_type": "code",
   "execution_count": null,
   "id": "92987f0b",
   "metadata": {},
   "outputs": [],
   "source": [
    "# Select key modifiable features (identified via EDA)\n",
    "modifiable_features = [\n",
    "    'room type_Private room', \n",
    "    'room type_Shared room',\n",
    "    'review rate number',\n",
    "    'instant_bookable_True',\n",
    "    'Construction year',\n",
    "    'minimum nights',\n",
    "    'number of reviews'\n",
    "]\n",
    "\n",
    "X = df[modifiable_features]\n",
    "y = df['price']\n",
    "\n",
    "# Train-test split\n",
    "X_train, X_test, y_train, y_test = train_test_split(\n",
    "    X, y, test_size=0.2, random_state=42\n",
    ")"
   ]
  },
  {
   "cell_type": "code",
   "execution_count": null,
   "id": "70462e4b",
   "metadata": {},
   "outputs": [],
   "source": [
    "model = RandomForestRegressor(n_estimators=100, random_state=42)\n",
    "model.fit(X_train, y_train)\n",
    "\n",
    "# Evaluate\n",
    "train_preds = model.predict(X_train)\n",
    "test_preds = model.predict(X_test)\n",
    "print(f\"Train MAE: {mean_absolute_error(y_train, train_preds):.2f}\")\n",
    "print(f\"Test MAE: {mean_absolute_error(y_test, test_preds):.2f}\")"
   ]
  },
  {
   "cell_type": "markdown",
   "id": "570e199b",
   "metadata": {},
   "source": [
    "6"
   ]
  },
  {
   "cell_type": "code",
   "execution_count": null,
   "id": "84618159",
   "metadata": {},
   "outputs": [],
   "source": [
    "# Initialize SHAP explainer\n",
    "explainer = shap.TreeExplainer(model)\n",
    "shap_values = explainer.shap_values(X_test)\n",
    "\n",
    "# Global feature importance\n",
    "shap.summary_plot(shap_values, X_test, feature_names=modifiable_features)\n",
    "\n",
    "# Local explanation for a single listing\n",
    "sample_idx = 0\n",
    "shap.force_plot(\n",
    "    explainer.expected_value, \n",
    "    shap_values[sample_idx], \n",
    "    X_test.iloc[sample_idx],\n",
    "    feature_names=modifiable_features\n",
    ")"
   ]
  },
  {
   "cell_type": "markdown",
   "id": "41945771",
   "metadata": {},
   "source": [
    "7"
   ]
  },
  {
   "cell_type": "code",
   "execution_count": null,
   "id": "3226c22f",
   "metadata": {},
   "outputs": [],
   "source": [
    "def generate_host_recommendations(listing_data):\n",
    "    \"\"\"\n",
    "    Generates price optimization recommendations for hosts\n",
    "    based on model feature contributions.\n",
    "    \"\"\"\n",
    "    # Get SHAP values for the listing\n",
    "    listing_shap = explainer.shap_values(listing_data.values.reshape(1, -1))[0]\n",
    "    \n",
    "    recommendations = []\n",
    "    feature_effects = dict(zip(modifiable_features, listing_shap))\n",
    "    \n",
    "    # Generate suggestions for modifiable features\n",
    "    if 'room type_Private room' in feature_effects:\n",
    "        if feature_effects['room type_Private room'] < -10:\n",
    "            recommendations.append(\n",
    "                \"⚠️ Consider upgrading to ENTIRE HOME: Private rooms reduce price by \"\n",
    "                f\"${abs(feature_effects['room type_Private room']):.2f} on average\"\n",
    "            )\n",
    "            \n",
    "    if 'instant_bookable_True' in feature_effects:\n",
    "        if feature_effects['instant_bookable_True'] > 5:\n",
    "            recommendations.append(\n",
    "                \"✅ Enable INSTANT BOOKING: Increases price by \"\n",
    "                f\"${feature_effects['instant_bookable_True']:.2f}\"\n",
    "            )\n",
    "    \n",
    "    if 'review rate_number' in feature_effects:\n",
    "        if feature_effects['review rate_number'] > 8:\n",
    "            recommendations.append(\n",
    "                \"⭐ Maintain HIGH RATINGS (Current: {listing_data['review rate_number']}/5): \"\n",
    "                f\"+${feature_effects['review rate_number']:.2f} to price\"\n",
    "            )\n",
    "    \n",
    "    return recommendations\n",
    "\n",
    "# Example usage\n",
    "sample_listing = X_test.iloc[0]\n",
    "print(\"Host Recommendations:\")\n",
    "for rec in generate_host_recommendations(sample_listing):\n",
    "    print(f\"- {rec}\")"
   ]
  }
 ],
 "metadata": {
  "kernelspec": {
   "display_name": "Python 3",
   "language": "python",
   "name": "python3"
  },
  "language_info": {
   "codemirror_mode": {
    "name": "ipython",
    "version": 3
   },
   "file_extension": ".py",
   "mimetype": "text/x-python",
   "name": "python",
   "nbconvert_exporter": "python",
   "pygments_lexer": "ipython3",
   "version": "3.12.10"
  }
 },
 "nbformat": 4,
 "nbformat_minor": 5
}
