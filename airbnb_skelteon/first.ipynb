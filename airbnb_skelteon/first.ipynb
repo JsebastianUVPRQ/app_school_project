{
 "cells": [
  {
   "cell_type": "code",
   "execution_count": null,
   "id": "b649299f",
   "metadata": {},
   "outputs": [
    {
     "ename": "",
     "evalue": "",
     "output_type": "error",
     "traceback": [
      "\u001b[1;31mFailed to start the Kernel. \n",
      "\u001b[1;31mUnable to start Kernel '.venv (Python 3.12.10)' due to a timeout waiting for the ports to get used. \n",
      "\u001b[1;31mView Jupyter <a href='command:jupyter.viewOutput'>log</a> for further details."
     ]
    }
   ],
   "source": [
    "# Install required libraries\n",
    "%pip install pandas numpy scikit-learn matplotlib seaborn shap missingno"
   ]
  },
  {
   "cell_type": "code",
   "execution_count": null,
   "id": "de0231c9",
   "metadata": {},
   "outputs": [],
   "source": [
    "import pandas as pd\n",
    "import numpy as np\n",
    "import matplotlib.pyplot as plt\n",
    "import seaborn as sns\n",
    "from sklearn.model_selection import train_test_split\n",
    "from sklearn.ensemble import RandomForestRegressor\n",
    "from sklearn.metrics import mean_absolute_error\n",
    "import shap\n",
    "\n",
    "# Load dataset (assume downloaded from Kaggle)\n",
    "df = pd.read_csv(\"Airbnb_Open_Data.csv\", low_memory=False)\n",
    "\n",
    "# Initial inspection\n",
    "print(df.shape)\n",
    "df.head()"
   ]
  }
 ],
 "metadata": {
  "kernelspec": {
   "display_name": "Python 3",
   "language": "python",
   "name": "python3"
  },
  "language_info": {
   "name": "python",
   "version": "3.12.10"
  }
 },
 "nbformat": 4,
 "nbformat_minor": 5
}
